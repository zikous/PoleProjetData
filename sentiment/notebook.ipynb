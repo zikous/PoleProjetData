{
 "cells": [
  {
   "cell_type": "markdown",
   "id": "7db6bc4e-3760-4ef5-8067-491633656d1a",
   "metadata": {},
   "source": [
    "# Stock Market Sentiment Analysis Using FinBERT\n",
    "This notebook analyzes stock market sentiment using FinBERT model and proper text processing."
   ]
  },
  {
   "cell_type": "markdown",
   "id": "dedf90f6-6d0a-466e-822f-5add3dbec4be",
   "metadata": {},
   "source": [
    "## Setup and Imports\n",
    "First, let's import all necessary libraries and setup our environment"
   ]
  },
  {
   "cell_type": "code",
   "execution_count": 12,
   "id": "3cde2eda-ac3c-4c73-bfed-552bad9563c8",
   "metadata": {},
   "outputs": [],
   "source": [
    "import os\n",
    "import requests\n",
    "from bs4 import BeautifulSoup\n",
    "from transformers import AutoTokenizer, pipeline\n",
    "import yfinance as yf\n",
    "import matplotlib.pyplot as plt\n",
    "import pandas as pd\n",
    "from datetime import datetime\n",
    "from tqdm.notebook import tqdm\n",
    "import nltk\n",
    "import ssl\n",
    "import re"
   ]
  },
  {
   "cell_type": "markdown",
   "id": "f8ea2dd1-aed4-4d15-b576-78861c1d0c0d",
   "metadata": {},
   "source": [
    "## Download NLTK Data\n",
    "Setup NLTK and download required packages"
   ]
  },
  {
   "cell_type": "code",
   "execution_count": 13,
   "id": "da91d5a9-f791-4470-9b97-e808d1e301d0",
   "metadata": {},
   "outputs": [],
   "source": [
    "# Create NLTK data directory\n",
    "nltk_data_dir = os.path.expanduser(\"~/nltk_data\")\n",
    "os.makedirs(nltk_data_dir, exist_ok=True)\n",
    "\n",
    "# Handle SSL issues\n",
    "try:\n",
    "    _create_unverified_https_context = ssl._create_unverified_context\n",
    "except AttributeError:\n",
    "    pass\n",
    "else:\n",
    "    ssl._create_default_https_context = _create_unverified_https_context\n",
    "\n",
    "# Download required NLTK data\n",
    "for package in [\"punkt\", \"stopwords\"]:\n",
    "    try:\n",
    "        nltk.data.find(f\"tokenizers/{package}\")\n",
    "    except LookupError:\n",
    "        nltk.download(package, quiet=True)\n",
    "\n",
    "# Get stopwords\n",
    "stop_words = set(nltk.corpus.stopwords.words(\"english\"))"
   ]
  },
  {
   "cell_type": "markdown",
   "id": "9c6e0a5b-d6d0-4c49-b1e2-4f6e1c80ba9a",
   "metadata": {},
   "source": [
    "## Initialize FinBERT Model\n",
    "Load the FinBERT model and tokenizer"
   ]
  },
  {
   "cell_type": "code",
   "execution_count": 14,
   "id": "4a04a96c-2d6d-4171-8762-7b729c8bbcf5",
   "metadata": {},
   "outputs": [
    {
     "name": "stderr",
     "output_type": "stream",
     "text": [
      "Device set to use cuda:0\n"
     ]
    },
    {
     "name": "stdout",
     "output_type": "stream",
     "text": [
      "Test sentiment: [{'label': 'Positive', 'score': 1.0}]\n"
     ]
    }
   ],
   "source": [
    "MODEL_NAME = \"yiyanghkust/finbert-tone\"\n",
    "tokenizer = AutoTokenizer.from_pretrained(MODEL_NAME)\n",
    "finbert_sentiment = pipeline(\n",
    "    \"sentiment-analysis\", model=MODEL_NAME, tokenizer=tokenizer\n",
    ")\n",
    "\n",
    "# Test the model\n",
    "test_text = \"Company reports strong earnings growth\"\n",
    "print(\"Test sentiment:\", finbert_sentiment(test_text))"
   ]
  },
  {
   "cell_type": "markdown",
   "id": "f901d5df-7573-4a64-917f-96b8a65b4bcf",
   "metadata": {},
   "source": [
    "## Define Text Processing Functions\n",
    "Setup functions for cleaning and processing text"
   ]
  },
  {
   "cell_type": "code",
   "execution_count": 15,
   "id": "230b5c85-d333-46b9-b1a0-268a9896906b",
   "metadata": {},
   "outputs": [],
   "source": [
    "def clean_text(text):\n",
    "    \"\"\"Clean and preprocess text.\"\"\"\n",
    "    # Remove special characters and digits\n",
    "    text = re.sub(r\"[^\\w\\s]\", \" \", text)\n",
    "    text = re.sub(r\"\\d+\", \" \", text)\n",
    "\n",
    "    # Convert to lowercase\n",
    "    text = text.lower()\n",
    "\n",
    "    # Tokenize into words\n",
    "    try:\n",
    "        words = nltk.word_tokenize(text)\n",
    "    except:\n",
    "        words = text.split()\n",
    "\n",
    "    # Remove stopwords and short words\n",
    "    words = [word for word in words if word not in stop_words and len(word) > 2]\n",
    "\n",
    "    return \" \".join(words)"
   ]
  },
  {
   "cell_type": "markdown",
   "id": "d8a7ffe8-e1c8-4d65-abad-998c7801f759",
   "metadata": {},
   "source": [
    "## Fetch Stock News\n",
    "Get news data for a specific stock ticker"
   ]
  },
  {
   "cell_type": "code",
   "execution_count": 16,
   "id": "df8ed160-b10d-4411-b64d-01e56fd4a1c2",
   "metadata": {},
   "outputs": [
    {
     "name": "stdout",
     "output_type": "stream",
     "text": [
      "Found 8 news articles\n",
      "\n",
      "Sample news item:\n",
      "Title: 3 problems for the stock price of Nvidia rival AMD\n",
      "Source: Yahoo Finance\n",
      "Date: 2025-01-05 14:30:29\n"
     ]
    }
   ],
   "source": [
    "ticker = \"INTC\"  # Example\n",
    "stock = yf.Ticker(ticker)\n",
    "news_data = stock.news\n",
    "print(f\"Found {len(news_data)} news articles\")\n",
    "\n",
    "# Show sample news item\n",
    "print(\"\\nSample news item:\")\n",
    "print(f\"Title: {news_data[0]['title']}\")\n",
    "print(f\"Source: {news_data[0].get('publisher', 'Unknown')}\")\n",
    "print(f\"Date: {datetime.fromtimestamp(news_data[0]['providerPublishTime'])}\")"
   ]
  },
  {
   "cell_type": "markdown",
   "id": "587940f9-9d50-41c2-8bcc-a71b64890f04",
   "metadata": {},
   "source": [
    "## Process News Articles\n",
    "Extract and process the content from each news article"
   ]
  },
  {
   "cell_type": "code",
   "execution_count": 17,
   "id": "71b0240b-d3d8-4b8c-bab4-29684465e697",
   "metadata": {},
   "outputs": [
    {
     "data": {
      "application/vnd.jupyter.widget-view+json": {
       "model_id": "fb950e4ca5fe46acb5400243623adfac",
       "version_major": 2,
       "version_minor": 0
      },
      "text/plain": [
       "  0%|          | 0/8 [00:00<?, ?it/s]"
      ]
     },
     "metadata": {},
     "output_type": "display_data"
    },
    {
     "name": "stdout",
     "output_type": "stream",
     "text": [
      "Error processing article: 404 Client Error: Not Found for url: https://finance.yahoo.com/m/b324654e-a478-3394-8ec8-77aef939693e/these-were-the-5.html\n",
      "Error processing article: 404 Client Error: Not Found for url: https://finance.yahoo.com/m/c9237031-68c3-3cbf-9fa2-afe5bede7cb4/intel%E2%80%99s-problems-are-even.html\n",
      "Error processing article: 404 Client Error: Not Found for url: https://finance.yahoo.com/m/323107f6-de53-352c-9c47-600632f85afe/the-5-worst-performing-stocks.html\n",
      "\n",
      "Processed 8 articles\n"
     ]
    }
   ],
   "source": [
    "processed_news = []\n",
    "\n",
    "for news_item in tqdm(news_data):\n",
    "    title = news_item[\"title\"]\n",
    "    date = datetime.fromtimestamp(news_item[\"providerPublishTime\"])\n",
    "\n",
    "    # Process title\n",
    "    processed_title = clean_text(title)\n",
    "\n",
    "    try:\n",
    "        # Attempt to fetch full article\n",
    "        response = requests.get(news_item[\"link\"], timeout=10)\n",
    "        response.raise_for_status()\n",
    "\n",
    "        soup = BeautifulSoup(response.content, \"html.parser\")\n",
    "        paragraphs = (\n",
    "            soup.find(\"article\").find_all(\"p\")\n",
    "            if soup.find(\"article\")\n",
    "            else soup.find_all(\"p\")\n",
    "        )\n",
    "\n",
    "        if paragraphs:\n",
    "            # Join paragraphs and process\n",
    "            full_text = \" \".join(\n",
    "                p.get_text() for p in paragraphs if p.get_text().strip()\n",
    "            )\n",
    "            processed_text = clean_text(f\"{title} {full_text}\")\n",
    "        else:\n",
    "            processed_text = processed_title\n",
    "\n",
    "    except Exception as e:\n",
    "        print(f\"Error processing article: {str(e)}\")\n",
    "        processed_text = processed_title\n",
    "\n",
    "    processed_news.append(\n",
    "        {\n",
    "            \"title\": title,\n",
    "            \"date\": date,\n",
    "            \"processed_text\": processed_text,\n",
    "            \"text_length\": len(processed_text.split()),\n",
    "        }\n",
    "    )\n",
    "\n",
    "print(f\"\\nProcessed {len(processed_news)} articles\")"
   ]
  },
  {
   "cell_type": "markdown",
   "id": "844f0669-589c-46d2-825e-8069b37c6c13",
   "metadata": {},
   "source": [
    "## Analyze Sentiments\n",
    "Run sentiment analysis on processed texts"
   ]
  },
  {
   "cell_type": "code",
   "execution_count": 18,
   "id": "0c6d4922-2baf-485c-8641-bad0e624e0f4",
   "metadata": {},
   "outputs": [
    {
     "data": {
      "application/vnd.jupyter.widget-view+json": {
       "model_id": "02f5b2281f78459cb57fbd3c62378e17",
       "version_major": 2,
       "version_minor": 0
      },
      "text/plain": [
       "  0%|          | 0/8 [00:00<?, ?it/s]"
      ]
     },
     "metadata": {},
     "output_type": "display_data"
    },
    {
     "name": "stdout",
     "output_type": "stream",
     "text": [
      "\n",
      "Sentiment Distribution:\n",
      "sentiment\n",
      "Neutral     5\n",
      "Negative    3\n",
      "Name: count, dtype: int64\n",
      "\n",
      "Average Confidence Score:\n",
      "sentiment\n",
      "Negative    0.999854\n",
      "Neutral     0.901195\n",
      "Name: confidence, dtype: float64\n"
     ]
    }
   ],
   "source": [
    "results = []\n",
    "\n",
    "for item in tqdm(processed_news):\n",
    "    try:\n",
    "        # Get sentiment\n",
    "        sentiment = finbert_sentiment(item[\"processed_text\"][:512])[0]\n",
    "\n",
    "        results.append(\n",
    "            {\n",
    "                \"date\": item[\"date\"],\n",
    "                \"title\": item[\"title\"],\n",
    "                \"sentiment\": sentiment[\"label\"],\n",
    "                \"confidence\": sentiment[\"score\"],\n",
    "                \"text_length\": item[\"text_length\"],\n",
    "            }\n",
    "        )\n",
    "    except Exception as e:\n",
    "        print(f\"Error analyzing sentiment: {str(e)}\")\n",
    "        continue\n",
    "\n",
    "sentiment_df = pd.DataFrame(results)\n",
    "\n",
    "# Display results\n",
    "print(\"\\nSentiment Distribution:\")\n",
    "print(sentiment_df[\"sentiment\"].value_counts())\n",
    "print(\"\\nAverage Confidence Score:\")\n",
    "print(sentiment_df.groupby(\"sentiment\")[\"confidence\"].mean())"
   ]
  },
  {
   "cell_type": "markdown",
   "id": "27a921f0-6dc4-4c1a-88b9-5c222f6504e6",
   "metadata": {},
   "source": [
    "## Visualize Results\n",
    "Create visualizations to better understand the sentiment analysis"
   ]
  },
  {
   "cell_type": "code",
   "execution_count": 19,
   "metadata": {},
   "outputs": [
    {
     "data": {
      "image/png": "[encoded data removed]",
      "text/plain": [
       "<Figure size 1000x600 with 1 Axes>"
      ]
     },
     "metadata": {},
     "output_type": "display_data"
    }
   ],
   "source": [
    "# 1. Sentiment Distribution\n",
    "plt.figure(figsize=(10, 6))\n",
    "counts = sentiment_df['sentiment'].value_counts()\n",
    "colors = {'Positive': '#2ecc71', 'Negative': '#e74c3c', 'Neutral': '#3498db'}\n",
    "plt.bar(counts.index, counts.values, color=[colors.get(x, '#7f8c8d') for x in counts.index])\n",
    "plt.title(\"Sentiment Distribution\", fontsize=12, pad=10)\n",
    "plt.xlabel(\"Sentiment\", fontsize=10)\n",
    "plt.ylabel(\"Count\", fontsize=10)\n",
    "plt.grid(True, alpha=0.3)\n",
    "plt.show()"
   ]
  },
  {
   "cell_type": "code",
   "execution_count": 20,
   "metadata": {},
   "outputs": [
    {
     "data": {
      "text/plain": [
       "<Figure size 1000x600 with 0 Axes>"
      ]
     },
     "metadata": {},
     "output_type": "display_data"
    },
    {
     "data": {
      "image/png": "[encoded data removed]",
      "text/plain": [
       "<Figure size 640x480 with 1 Axes>"
      ]
     },
     "metadata": {},
     "output_type": "display_data"
    }
   ],
   "source": [
    "# 2. Confidence by Sentiment\n",
    "plt.figure(figsize=(10, 6))\n",
    "sentiment_df.boxplot(column='confidence', by='sentiment')\n",
    "plt.title(\"Confidence Scores by Sentiment\", fontsize=12, pad=10)\n",
    "plt.suptitle('')  # Remove automatic suptitle\n",
    "plt.grid(True, alpha=0.3)\n",
    "plt.ylabel(\"Confidence Score\", fontsize=10)\n",
    "plt.show()"
   ]
  },
  {
   "cell_type": "code",
   "execution_count": 21,
   "metadata": {},
   "outputs": [
    {
     "data": {
      "image/png": "[encoded data removed]",
      "text/plain": [
       "<Figure size 1000x600 with 1 Axes>"
      ]
     },
     "metadata": {},
     "output_type": "display_data"
    }
   ],
   "source": [
    "# 3. Text Length Distribution\n",
    "plt.figure(figsize=(10, 6))\n",
    "plt.hist(sentiment_df['text_length'], bins=30, color='#9b59b6', alpha=0.7)\n",
    "plt.title(\"Text Length Distribution\", fontsize=12, pad=10)\n",
    "plt.xlabel(\"Number of Words\", fontsize=10)\n",
    "plt.ylabel(\"Frequency\", fontsize=10)\n",
    "plt.grid(True, alpha=0.3)\n",
    "plt.show()"
   ]
  },
  {
   "cell_type": "markdown",
   "id": "6ee79646-74bc-4f36-9b48-c785b404fc59",
   "metadata": {},
   "source": [
    "## Export Results (Optional)\n",
    "Save the results to a CSV file if needed"
   ]
  },
  {
   "cell_type": "code",
   "execution_count": 22,
   "id": "e8904111-7f43-48a2-b000-8a490370f4ef",
   "metadata": {},
   "outputs": [],
   "source": [
    "# Uncomment to save results\n",
    "# sentiment_df.to_csv(f\"{ticker}_sentiment_analysis.csv\", index=False)"
   ]
  }
 ],
 "metadata": {
  "kernelspec": {
   "display_name": "Python 3",
   "language": "python",
   "name": "python3"
  },
  "language_info": {
   "codemirror_mode": {
    "name": "ipython",
    "version": 3
   },
   "file_extension": ".py",
   "mimetype": "text/x-python",
   "name": "python",
   "nbconvert_exporter": "python",
   "pygments_lexer": "ipython3",
   "version": "3.12.4"
  }
 },
 "nbformat": 4,
 "nbformat_minor": 2
}
