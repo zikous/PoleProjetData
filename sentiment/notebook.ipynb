{
 "cells": [
  {
   "cell_type": "code",
   "execution_count": 1,
   "metadata": {},
   "outputs": [],
   "source": [
    "import yfinance as yf\n",
    "\n",
    "# Function to get stock data\n",
    "def get_stock_data(ticker, start_date, end_date):\n",
    "    stock = yf.Ticker(ticker)\n",
    "    return stock.history(start=start_date, end=end_date)\n"
   ]
  },
  {
   "cell_type": "code",
   "execution_count": 2,
   "metadata": {},
   "outputs": [],
   "source": [
    "import requests\n",
    "\n",
    "def fetch_news(query, start_date, end_date, api_key):\n",
    "    url = f\"https://newsapi.org/v2/everything\"\n",
    "    params = {\n",
    "        \"q\": query,\n",
    "        \"from\": start_date,\n",
    "        \"to\": end_date,\n",
    "        \"sortBy\": \"relevancy\",\n",
    "        \"apiKey\": api_key\n",
    "    }\n",
    "    response = requests.get(url, params=params)\n",
    "    if response.status_code == 200:\n",
    "        return response.json()[\"articles\"]\n",
    "    else:\n",
    "        raise Exception(f\"Error fetching news: {response.status_code}\")\n"
   ]
  },
  {
   "cell_type": "code",
   "execution_count": 3,
   "metadata": {},
   "outputs": [],
   "source": [
    "from nltk.sentiment.vader import SentimentIntensityAnalyzer\n",
    "\n",
    "# Initialize VADER\n",
    "analyzer = SentimentIntensityAnalyzer()\n",
    "\n",
    "def analyze_sentiment(text):\n",
    "    scores = analyzer.polarity_scores(text)\n",
    "    if scores[\"compound\"] > 0.05:\n",
    "        return \"Positive\"\n",
    "    elif scores[\"compound\"] < -0.05:\n",
    "        return \"Negative\"\n",
    "    else:\n",
    "        return \"Neutral\"\n"
   ]
  },
  {
   "cell_type": "code",
   "execution_count": 4,
   "metadata": {},
   "outputs": [],
   "source": [
    "def analyze_stock_sentiment(ticker, start_date, end_date, api_key):\n",
    "    # Fetch stock data\n",
    "    stock_data = get_stock_data(ticker, start_date, end_date)\n",
    "\n",
    "    # Fetch news articles\n",
    "    news_articles = fetch_news(ticker, start_date, end_date, api_key)\n",
    "\n",
    "    # Perform sentiment analysis\n",
    "    analyzed_news = []\n",
    "    for article in news_articles:\n",
    "        sentiment = analyze_sentiment(article[\"title\"] + \" \" + article[\"description\"])\n",
    "        analyzed_news.append({\n",
    "            \"title\": article[\"title\"],\n",
    "            \"description\": article[\"description\"],\n",
    "            \"sentiment\": sentiment,\n",
    "        })\n",
    "\n",
    "    return stock_data, analyzed_news\n"
   ]
  },
  {
   "cell_type": "code",
   "execution_count": 5,
   "metadata": {},
   "outputs": [],
   "source": [
    "import matplotlib.pyplot as plt\n",
    "\n",
    "# Visualize stock prices\n",
    "def plot_stock_prices(stock_data):\n",
    "    stock_data['Close'].plot(title=\"Stock Prices\")\n",
    "    plt.xlabel(\"Date\")\n",
    "    plt.ylabel(\"Close Price\")\n",
    "    plt.show()\n"
   ]
  }
 ],
 "metadata": {
  "kernelspec": {
   "display_name": "Python 3",
   "language": "python",
   "name": "python3"
  },
  "language_info": {
   "codemirror_mode": {
    "name": "ipython",
    "version": 3
   },
   "file_extension": ".py",
   "mimetype": "text/x-python",
   "name": "python",
   "nbconvert_exporter": "python",
   "pygments_lexer": "ipython3",
   "version": "3.12.4"
  }
 },
 "nbformat": 4,
 "nbformat_minor": 2
}
